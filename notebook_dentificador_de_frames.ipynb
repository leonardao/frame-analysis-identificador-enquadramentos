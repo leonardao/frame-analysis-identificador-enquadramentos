{
 "cells": [
  {
   "cell_type": "code",
   "execution_count": 1,
   "id": "b3b1855d-3d43-457e-9c0a-bdca02136a00",
   "metadata": {},
   "outputs": [],
   "source": [
    "from openpyxl import load_workbook\n",
    "import re\n",
    "import unicodedata\n",
    "import string\n",
    "import csv"
   ]
  },
  {
   "cell_type": "code",
   "execution_count": 2,
   "id": "6272a2cb-73fd-4526-aa79-dd4c02829696",
   "metadata": {},
   "outputs": [],
   "source": [
    "def pega_tweets ( aba_planilha_tweet ):\n",
    "    matrix_tweets = []\n",
    "    # Retorna uma lista de palavras normalizada.\n",
    "    def normaliza_tweet ( tweet_original ):\n",
    "        # Elimina nomes de @usuário, #hashtags e \"RT\".\n",
    "        limpo = ' '.join (\n",
    "            re.sub ( \"(@[A-Za-z0-9]+)|(#[A-Za-z0-9]+)|(\\w+:\\/\\/\\S+)|(RT)\", \" \", tweet_original ).split () )\n",
    "\n",
    "        # Substitui letras com acento, elimina emoticons e converte tudo em minúsculas.\n",
    "        limpo = ''.join (\n",
    "            (frase for frase in unicodedata.normalize ( 'NFD', limpo ) if\n",
    "             unicodedata.category ( frase ) != 'Mn') ).encode (\n",
    "            'ascii', 'ignore' ).decode ( 'ascii' ).lower ()\n",
    "\n",
    "        # Elimina pontuação\n",
    "        dep = str.maketrans ( '', '', string.punctuation )\n",
    "        limpo = limpo.translate ( dep )\n",
    "        limpo = ' ' + limpo + ' '\n",
    "        return limpo\n",
    "\n",
    "    # Recupera todos os tweets de uma planilha e os salva em uma matriz.\n",
    "    num_linhas = aba_planilha_tweet.max_row + 1\n",
    "\n",
    "    for linha_t in range ( 2, num_linhas ):\n",
    "        # Pega o tweet da planilha depura o texto\n",
    "        texto = str ( aba_planilha_tweet.cell ( row = linha_t, column = 1 ).value )\n",
    "        matrix_tweets.append(normaliza_tweet(texto))\n",
    "\n",
    "    return matrix_tweets"
   ]
  },
  {
   "cell_type": "code",
   "execution_count": 3,
   "id": "17a35bf1-7d59-485c-887f-ce10a5df70b7",
   "metadata": {},
   "outputs": [],
   "source": [
    "def pega_keyword_frame ( nome_base_frames ):\n",
    "    with open ( nome_base_frames ) as csv_file:\n",
    "        base_frames = csv.reader ( csv_file, delimiter = ',' )\n",
    "        matriz_frames = []\n",
    "        for linha in base_frames:\n",
    "            list ( linha.pop ( 0 ) )\n",
    "            matriz_frames.append ( linha )\n",
    "    return matriz_frames"
   ]
  },
  {
   "cell_type": "code",
   "execution_count": 4,
   "id": "995b8227-d544-444c-a475-deaa0cbd4575",
   "metadata": {},
   "outputs": [],
   "source": [
    "def busca_frame ( tweet_normalizado, tipo_frame ):\n",
    "    achados = []\n",
    "    for keyword in tipo_frame:\n",
    "        if keyword in tweet_normalizado:\n",
    "            achados.append ( keyword )\n",
    "    return achados"
   ]
  },
  {
   "cell_type": "code",
   "execution_count": 5,
   "id": "58ae538c-bc3a-43f0-9b1a-e201203d323d",
   "metadata": {},
   "outputs": [],
   "source": [
    "nome_base_tweets_xlsx = \"base_tweets_classificada.xlsx\"\n",
    "base_tweets = load_workbook ( nome_base_tweets_xlsx )\n",
    "aba_tweets = base_tweets [ \"tweets\" ]\n",
    "\n",
    "tipo_frame = pega_keyword_frame ( \"base_keywords_frames.csv\" )\n",
    "\n",
    "tweets = pega_tweets ( aba_tweets )\n",
    "\n",
    "num_tweets = len ( tweets )\n",
    "num_frames = 6\n",
    "frames_genericos_especificos = [ 'ATRIBUIÇÃO DE RESPONSABILIDADE', 'CONFLITO', 'MORALIDADE', 'CONSEQUÊNCIAS DA PANDEMIA', 'MEDIDAS DE CONTENÇÃO', 'MÉTODOS DE TRATAMENTO' ]"
   ]
  },
  {
   "cell_type": "code",
   "execution_count": 6,
   "id": "0e329b08-b94f-479d-b3a4-e36b81a7451d",
   "metadata": {},
   "outputs": [],
   "source": [
    "for t in range ( 0, num_tweets ):\n",
    "    for f in range ( 0, num_frames ):\n",
    "        resultado = busca_frame ( tweets[t], tipo_frame[f] )\n",
    "        if resultado:\n",
    "            aba_tweets.cell ( t + 2, f + 2, value = \", \".join ( resultado ) )\n",
    "            #aba_tweets.cell ( t + 2, f + 2, value = \"1\" )\n",
    "        else:\n",
    "            aba_tweets.cell ( t + 2, f + 2, value = \"0\" )"
   ]
  },
  {
   "cell_type": "code",
   "execution_count": 7,
   "id": "e937d98a-c9ee-4d06-9faa-cf26ae6d3206",
   "metadata": {},
   "outputs": [],
   "source": [
    "base_tweets.save ( filename = nome_base_tweets_xlsx )"
   ]
  }
 ],
 "metadata": {
  "kernelspec": {
   "display_name": "Python 3 (ipykernel)",
   "language": "python",
   "name": "python3"
  },
  "language_info": {
   "codemirror_mode": {
    "name": "ipython",
    "version": 3
   },
   "file_extension": ".py",
   "mimetype": "text/x-python",
   "name": "python",
   "nbconvert_exporter": "python",
   "pygments_lexer": "ipython3",
   "version": "3.8.5"
  }
 },
 "nbformat": 4,
 "nbformat_minor": 5
}
